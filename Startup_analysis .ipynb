{
 "cells": [
  {
   "cell_type": "code",
   "execution_count": null,
   "metadata": {},
   "outputs": [],
   "source": [
    "#NUMBER OF FUNDINGS\n",
    "#Check the trend of investments over the years. To check the trend, find -Total number of fundings done in each year.\n",
    "#Plot a line graph between year and number of fundings. Take year on x-axis and number of fundings on y-axis.\n",
    "#Print year-wise total number of fundings also. Print years in ascending order.\n",
    "#Note :There is some error in the 'Date' feature. Make sure to handle that."
   ]
  },
  {
   "cell_type": "code",
   "execution_count": 1,
   "metadata": {},
   "outputs": [
    {
     "name": "stdout",
     "output_type": "stream",
     "text": [
      "{'2017': 443, '2016': 993, '2015': 936}\n"
     ]
    }
   ],
   "source": [
    "import pandas as pd\n",
    "import numpy as np\n",
    "import matplotlib.pyplot as plt\n",
    "import csv\n",
    "data=pd.read_csv('startup_funding.csv')\n",
    "date=data.Date\n",
    "money=data.AmountInUSD\n",
    "d={}\n",
    "for i in date:\n",
    "    year=str(i)[-4:]\n",
    "    if year in d:\n",
    "        d[year]=d[year]+1\n",
    "    else:\n",
    "        d[year]=1\n",
    "print(d)\n"
   ]
  },
  {
   "cell_type": "code",
   "execution_count": 2,
   "metadata": {},
   "outputs": [],
   "source": [
    "#TOP INDIAN CITIES\n",
    "#Find out which cities are generally chosen for starting a startup.\n",
    "#Find top 10 Indian cities which have most number of startups ?\n",
    "#Plot a pie chart and visualise it.\n",
    "#Print the city name and number of startups in that city also.\n",
    "#Note :Take city name \"Delhi\" as \"New Delhi\".\n",
    "#Check the case-sensitiveness of cities also. That means - at some place, instead of \"Bangalore\", \"bangalore\" is given. Take city name as \"Bangalore\".\n",
    "#For few startups multiple locations are given, one Indian and one Foreign. Count those startups in Indian startup also. Indian city name is first.\n",
    "#Print the city in descending order with respect to the number of startups."
   ]
  },
  {
   "cell_type": "code",
   "execution_count": 3,
   "metadata": {},
   "outputs": [
    {
     "name": "stdout",
     "output_type": "stream",
     "text": [
      "Bangalore 635\n",
      "Mumbai 449\n",
      "New Delhi 389\n",
      "Gurgaon 241\n",
      "Pune 91\n",
      "Noida 79\n",
      "Hyderabad 77\n",
      "Chennai 67\n",
      "Ahmedabad 35\n",
      "Jaipur 25\n"
     ]
    }
   ],
   "source": [
    "import pandas as pd\n",
    "import numpy as np\n",
    "import matplotlib.pyplot as plt\n",
    "import csv\n",
    "import operator\n",
    "data=pd.read_csv('startup_funding.csv')\n",
    "city=data.CityLocation\n",
    "city.replace('Delhi','New Delhi',inplace=True)\n",
    "city.replace('bangalore','Bangalore',inplace=True)\n",
    "d={}\n",
    "for split in city:\n",
    "    split=str(split).split('/')[0].strip()\n",
    "    if split in d:\n",
    "        d[split]=d[split]+1\n",
    "    elif split=='nan':\n",
    "        pass\n",
    "    else:\n",
    "        d[split]=1\n",
    "di=sorted(d.items(),key=lambda d:d[1],reverse=True)\n",
    "count=0\n",
    "for i in di:\n",
    "    print(i[0],i[1])\n",
    "    count+=1\n",
    "    if count>9:\n",
    "        break"
   ]
  },
  {
   "cell_type": "code",
   "execution_count": 4,
   "metadata": {},
   "outputs": [],
   "source": [
    "#FUNDING AMOUNT\n",
    "#Find out if cities play any role in receiving funding.\n",
    "#Find top 10 Indian cities with most amount of fundings received. Find out percentage of funding each city has got (among top 10 Indian cities only).\n",
    "#Print the city and percentage with 2 decimal place after rounding off.\n",
    "#Note:Take city name \"Delhi\" as \"New Delhi\".\n",
    "#Check the case-sensitiveness of cities also. That means - at some place, instead of \"Bangalore\", \"bangalore\" is given. Take city name as \"Bangalore\".\n",
    "#For few startups multiple locations are given, one Indian and one Foreign. Count those startups in Indian startup also. Indian city name is first.\n",
    "#Print the city in descending order with respect to the percentage of funding."
   ]
  },
  {
   "cell_type": "code",
   "execution_count": 5,
   "metadata": {},
   "outputs": [
    {
     "name": "stderr",
     "output_type": "stream",
     "text": [
      "C:\\Users\\India\\anaconda3\\lib\\site-packages\\ipykernel_launcher.py:6: SettingWithCopyWarning: \n",
      "A value is trying to be set on a copy of a slice from a DataFrame\n",
      "\n",
      "See the caveats in the documentation: https://pandas.pydata.org/pandas-docs/stable/user_guide/indexing.html#returning-a-view-versus-a-copy\n",
      "  \n",
      "C:\\Users\\India\\anaconda3\\lib\\site-packages\\ipykernel_launcher.py:7: SettingWithCopyWarning: \n",
      "A value is trying to be set on a copy of a slice from a DataFrame.\n",
      "Try using .loc[row_indexer,col_indexer] = value instead\n",
      "\n",
      "See the caveats in the documentation: https://pandas.pydata.org/pandas-docs/stable/user_guide/indexing.html#returning-a-view-versus-a-copy\n",
      "  import sys\n",
      "C:\\Users\\India\\anaconda3\\lib\\site-packages\\pandas\\core\\frame.py:4172: SettingWithCopyWarning: \n",
      "A value is trying to be set on a copy of a slice from a DataFrame\n",
      "\n",
      "See the caveats in the documentation: https://pandas.pydata.org/pandas-docs/stable/user_guide/indexing.html#returning-a-view-versus-a-copy\n",
      "  method=method,\n",
      "C:\\Users\\India\\anaconda3\\lib\\site-packages\\ipykernel_launcher.py:10: SettingWithCopyWarning: \n",
      "A value is trying to be set on a copy of a slice from a DataFrame.\n",
      "Try using .loc[row_indexer,col_indexer] = value instead\n",
      "\n",
      "See the caveats in the documentation: https://pandas.pydata.org/pandas-docs/stable/user_guide/indexing.html#returning-a-view-versus-a-copy\n",
      "  # Remove the CWD from sys.path while we load stuff.\n",
      "C:\\Users\\India\\anaconda3\\lib\\site-packages\\ipykernel_launcher.py:11: SettingWithCopyWarning: \n",
      "A value is trying to be set on a copy of a slice from a DataFrame.\n",
      "Try using .loc[row_indexer,col_indexer] = value instead\n",
      "\n",
      "See the caveats in the documentation: https://pandas.pydata.org/pandas-docs/stable/user_guide/indexing.html#returning-a-view-versus-a-copy\n",
      "  # This is added back by InteractiveShellApp.init_path()\n"
     ]
    },
    {
     "name": "stdout",
     "output_type": "stream",
     "text": [
      "Bangalore 49.71\n",
      "New Delhi 16.63\n",
      "Mumbai 13.90\n",
      "Gurgaon 12.21\n",
      "Chennai 2.43\n",
      "Pune 2.16\n",
      "Hyderabad 1.15\n",
      "Noida 1.01\n",
      "Ahmedabad 0.58\n",
      "Jaipur 0.21\n"
     ]
    }
   ],
   "source": [
    "import pandas as pd\n",
    "import matplotlib.pyplot as plt\n",
    "from collections import Counter\n",
    "df=pd.read_csv('startup_funding.csv',encoding='utf-8',skipinitialspace=True)\n",
    "location=df[['CityLocation','AmountInUSD']]\n",
    "location.dropna(inplace=True) #to drop nan value\n",
    "location['AmountInUSD']=location['AmountInUSD'].str.replace(',','').astype(float)\n",
    "location.replace('Delhi','New Delhi',inplace=True)\n",
    "location.replace('bangalore','Bangalore',inplace=True)\n",
    "location['CityLocation'] = location['CityLocation'].str.split(' /').str[0]\n",
    "location['CityLocation'] = location['CityLocation'].str.split('/').str[0]\n",
    "dict={}\n",
    "for index,i in location.iterrows():\n",
    "    if i['CityLocation'] in dict:\n",
    "        dict[i['CityLocation']]+=i['AmountInUSD']\n",
    "    else:\n",
    "        dict[i['CityLocation']]=i['AmountInUSD']\n",
    "#print(dict)\n",
    "d=Counter(dict).most_common(10)\n",
    "amt=[]\n",
    "for i in d:\n",
    "    amt.append(i[1])\n",
    "sum_n=sum(amt)\n",
    "per=[]\n",
    "for i in amt:\n",
    "    t=format((i/sum_n)*100,'.2f')\n",
    "    per.append(t)\n",
    "for i in range(10):\n",
    "    print(d[i][0],per[i])"
   ]
  },
  {
   "cell_type": "code",
   "execution_count": 6,
   "metadata": {},
   "outputs": [],
   "source": [
    "#INVESTMENT TYPE\n",
    "#There are 4 different type of investments. Find out percentage of amount funded for each investment type.\n",
    "#Plot a pie chart to visualise.\n",
    "#Print the investment type and percentage of amount funded with 2 decimal places after rounding off.\n",
    "#Note :Correct spelling of investment types are - \"Private Equity\", \"Seed Funding\", \"Debt Funding\", and \"Crowd Funding\". Keep an eye for any spelling mistake. You can find this by printing unique values from this column.\n",
    "#Print the investment type in descending order with respect to the percentage of the amount funded.\n"
   ]
  },
  {
   "cell_type": "code",
   "execution_count": 7,
   "metadata": {},
   "outputs": [
    {
     "name": "stderr",
     "output_type": "stream",
     "text": [
      "C:\\Users\\India\\anaconda3\\lib\\site-packages\\ipykernel_launcher.py:5: SettingWithCopyWarning: \n",
      "A value is trying to be set on a copy of a slice from a DataFrame.\n",
      "Try using .loc[row_indexer,col_indexer] = value instead\n",
      "\n",
      "See the caveats in the documentation: https://pandas.pydata.org/pandas-docs/stable/user_guide/indexing.html#returning-a-view-versus-a-copy\n",
      "  \"\"\"\n",
      "C:\\Users\\India\\anaconda3\\lib\\site-packages\\ipykernel_launcher.py:6: SettingWithCopyWarning: \n",
      "A value is trying to be set on a copy of a slice from a DataFrame\n",
      "\n",
      "See the caveats in the documentation: https://pandas.pydata.org/pandas-docs/stable/user_guide/indexing.html#returning-a-view-versus-a-copy\n",
      "  \n",
      "C:\\Users\\India\\anaconda3\\lib\\site-packages\\pandas\\core\\generic.py:6746: SettingWithCopyWarning: \n",
      "A value is trying to be set on a copy of a slice from a DataFrame\n",
      "\n",
      "See the caveats in the documentation: https://pandas.pydata.org/pandas-docs/stable/user_guide/indexing.html#returning-a-view-versus-a-copy\n",
      "  self._update_inplace(new_data)\n"
     ]
    },
    {
     "name": "stdout",
     "output_type": "stream",
     "text": [
      "Private Equity 98.15\n",
      "Seed Funding 1.81\n",
      "Debt Funding 0.04\n",
      "Crowd Funding 0.00\n"
     ]
    },
    {
     "data": {
      "image/png": "[encoded data removed]",
      "text/plain": [
       "<Figure size 432x288 with 1 Axes>"
      ]
     },
     "metadata": {},
     "output_type": "display_data"
    }
   ],
   "source": [
    "import pandas as pd\n",
    "import matplotlib.pyplot as plt\n",
    "df=pd.read_csv(\"startup_funding.csv\",encoding='utf-8')\n",
    "invest=df[['InvestmentType','AmountInUSD']]\n",
    "invest['AmountInUSD']=invest['AmountInUSD'].str.replace(',','').astype(float)\n",
    "invest.dropna(inplace=True)\n",
    "invest['InvestmentType'].replace('PrivateEquity','Private Equity',inplace=True)\n",
    "invest['InvestmentType'].replace('SeedFunding','Seed Funding',inplace=True)\n",
    "invest['InvestmentType'].replace('Crowd funding','Crowd Funding',inplace=True)\n",
    "#print(invest['InvestmentType'].unique())\n",
    "type_1=invest[\"InvestmentType\"]=='Private Equity'\n",
    "type_2=invest[\"InvestmentType\"]=='Seed Funding'\n",
    "type_3=invest[\"InvestmentType\"]=='Debt Funding'\n",
    "type_4=invest[\"InvestmentType\"]=='Crowd Funding'\n",
    "sum_1,sum_2,sum_3,sum_4=invest[type_1]['AmountInUSD'].sum(),invest[type_2]['AmountInUSD'].sum(),invest[type_3]['AmountInUSD'].sum(),invest[type_4]['AmountInUSD'].sum()\n",
    "total_sum=sum_1+sum_2+sum_3+sum_4\n",
    "#print(sum_1,sum_2,sum_3,sum_4)\n",
    "x=[sum_1,sum_2,sum_3,sum_4]\n",
    "per_1,per_2,per_3,per_4=format((sum_1/total_sum)*100,'.2f'),format((sum_2/total_sum)*100,'.2f'),format((sum_3/total_sum)*100,'.2f'),format((sum_4/total_sum)*100,'.2f')\n",
    "\n",
    "print('Private Equity',per_1)\n",
    "print('Seed Funding',per_2)\n",
    "print('Debt Funding',per_3)\n",
    "print('Crowd Funding',per_4)\n",
    "plt.pie(x)\n",
    "plt.axis(\"equal\")\n",
    "plt.show()"
   ]
  },
  {
   "cell_type": "code",
   "execution_count": 8,
   "metadata": {},
   "outputs": [],
   "source": [
    "#TOP INDUSTRIES\n",
    "#Which type of companies got more easily funding. To answer this question, find -\n",
    "#Top 5 industries and percentage of the total amount funded to that industry. (among top 5 only)\n",
    "#Print the industry name and percentage of the amount funded with 2 decimal place after rounding off.\n",
    "#Note :Ecommerce is the right word in IndustryVertical, so correct it.\n",
    "#Print the industry in descending order with respect to the percentage of the amount funded.\n"
   ]
  },
  {
   "cell_type": "code",
   "execution_count": 9,
   "metadata": {},
   "outputs": [
    {
     "name": "stdout",
     "output_type": "stream",
     "text": [
      "Ecommerce 40.53\n",
      "Consumer Internet 35.95\n",
      "Technology 10.45\n",
      "Online Marketplace 6.63\n",
      "E-Commerce & M-Commerce platform 6.44\n"
     ]
    },
    {
     "name": "stderr",
     "output_type": "stream",
     "text": [
      "C:\\Users\\India\\anaconda3\\lib\\site-packages\\ipykernel_launcher.py:6: SettingWithCopyWarning: \n",
      "A value is trying to be set on a copy of a slice from a DataFrame\n",
      "\n",
      "See the caveats in the documentation: https://pandas.pydata.org/pandas-docs/stable/user_guide/indexing.html#returning-a-view-versus-a-copy\n",
      "  \n",
      "C:\\Users\\India\\anaconda3\\lib\\site-packages\\ipykernel_launcher.py:7: SettingWithCopyWarning: \n",
      "A value is trying to be set on a copy of a slice from a DataFrame.\n",
      "Try using .loc[row_indexer,col_indexer] = value instead\n",
      "\n",
      "See the caveats in the documentation: https://pandas.pydata.org/pandas-docs/stable/user_guide/indexing.html#returning-a-view-versus-a-copy\n",
      "  import sys\n"
     ]
    }
   ],
   "source": [
    "import pandas as pd\n",
    "import matplotlib.pyplot as plt\n",
    "from collections import Counter\n",
    "df=pd.read_csv('startup_funding.csv',encoding='utf-8',skipinitialspace=True)\n",
    "location=df[['IndustryVertical','AmountInUSD']]\n",
    "location.dropna(inplace=True)\n",
    "location['AmountInUSD']=location['AmountInUSD'].str.replace(',','').astype(float)\n",
    "location.replace('eCommerce','Ecommerce',inplace=True)\n",
    "location.replace('ECommerce','Ecommerce',inplace=True)\n",
    "location.replace('ecommerce','Ecommerce',inplace=True)\n",
    "dict={}\n",
    "for index,i in location.iterrows():\n",
    "    if i['IndustryVertical'] in dict:\n",
    "        dict[i['IndustryVertical']]+=i['AmountInUSD']\n",
    "    else:\n",
    "        dict[i['IndustryVertical']]=i['AmountInUSD']\n",
    "d=Counter(dict).most_common(5)\n",
    "amt=[]\n",
    "for i in d:\n",
    "    amt.append(i[1])\n",
    "sum_n=sum(amt)\n",
    "per=[]\n",
    "for i in amt:\n",
    "    t=format((i/sum_n)*100,'.2f')\n",
    "    per.append(t)\n",
    "for i in range(5):\n",
    "    print(d[i][0],per[i])"
   ]
  },
  {
   "cell_type": "code",
   "execution_count": 10,
   "metadata": {},
   "outputs": [],
   "source": [
    "#TOP STARTUPS\n",
    "#Find top 5 startups with most amount of total funding.\n",
    "#Print the startup name in descending order with respect to amount of funding.\n",
    "#Note:Ola, Flipkart, Oyo, Paytm are important startups, so correct their names. There are many errors in startup names, ignore correcting all, just handle important ones.\n"
   ]
  },
  {
   "cell_type": "code",
   "execution_count": 11,
   "metadata": {},
   "outputs": [
    {
     "name": "stdout",
     "output_type": "stream",
     "text": [
      "Paytm\n",
      "Flipkart\n",
      "Ola\n",
      "Snapdeal\n",
      "Oyo\n"
     ]
    }
   ],
   "source": [
    "import pandas as pd\n",
    "import matplotlib.pyplot as plt\n",
    "from collections import Counter\n",
    "df=pd.read_csv('startup_funding.csv',encoding='utf-8',skipinitialspace=True)\n",
    "location = df.copy()\n",
    "location=location[['StartupName','AmountInUSD']]\n",
    "location.dropna(inplace=True)\n",
    "location['AmountInUSD']=location['AmountInUSD'].str.replace(',','').astype(float)\n",
    "location.replace('Ola Cabs','Ola',inplace=True)\n",
    "location.replace('Olacabs','Ola',inplace=True)\n",
    "location.replace('Flipkart.com','Flipkart',inplace=True)\n",
    "location.replace('Paytm Marketplace','Paytm',inplace=True)\n",
    "location.replace('Oyo Rooms','Oyo',inplace=True)\n",
    "location.replace('Oyorooms','Oyo',inplace=True)\n",
    "location.replace('OyoRooms','Oyo',inplace=True)\n",
    "location.replace('OYO Rooms','Oyo',inplace=True)\n",
    "dict={}\n",
    "for index, i in location.iterrows():\n",
    "    if i['StartupName'] in dict:\n",
    "        dict[i['StartupName']]+=i['AmountInUSD']\n",
    "    else:\n",
    "        dict[i['StartupName']]=i['AmountInUSD']\n",
    "        \n",
    "d=Counter(dict).most_common(5)\n",
    "for i in d:\n",
    "    print(i[0])\n",
    "\n",
    "\n"
   ]
  },
  {
   "cell_type": "code",
   "execution_count": 12,
   "metadata": {},
   "outputs": [],
   "source": [
    "#FUNDING ROUNDS\n",
    "#Find the top 5 startups who received the most number of funding rounds. That means, startups which got fundings maximum number of times.\n",
    "#Print the startup name in descending order with respect to the number of funding round as integer value.\n",
    "#Note:Ola, Flipkart, Oyo, Paytm are important startups, so correct their names. There are many errors in startup names, ignore correcting all, just handle important ones.\n"
   ]
  },
  {
   "cell_type": "code",
   "execution_count": 13,
   "metadata": {},
   "outputs": [
    {
     "name": "stdout",
     "output_type": "stream",
     "text": [
      "Ola 8\n",
      "Swiggy 7\n",
      "Oyo 6\n",
      "Flipkart 5\n",
      "UrbanClap 5\n"
     ]
    }
   ],
   "source": [
    "# Open and read data file as specified in the question\n",
    "# Print the required output in given format\n",
    "import pandas as pd\n",
    "import matplotlib.pyplot as plt\n",
    "from collections import Counter\n",
    "df=pd.read_csv('startup_funding.csv',encoding='utf-8',skipinitialspace=True)\n",
    "location = df.copy()\n",
    "location=location[['StartupName','AmountInUSD']]\n",
    "location.dropna(inplace=True)\n",
    "location['AmountInUSD']=location['AmountInUSD'].str.replace(',','').astype(float)\n",
    "location.replace('Ola Cabs','Ola',inplace=True)\n",
    "location.replace('Olacabs','Ola',inplace=True)\n",
    "location.replace('Flipkart.com','Flipkart',inplace=True)\n",
    "location.replace('Paytm Marketplace','Paytm',inplace=True)\n",
    "location.replace('Oyo Rooms','Oyo',inplace=True)\n",
    "location.replace('Oyorooms','Oyo',inplace=True)\n",
    "location.replace('OyoRooms','Oyo',inplace=True)\n",
    "location.replace('OYO Rooms','Oyo',inplace=True)\n",
    "dict={}\n",
    "for index, i in location.iterrows():\n",
    "     if i['StartupName'] in dict:\n",
    "        dict[i['StartupName']]+=1\n",
    "     else:\n",
    "        dict[i['StartupName']]=1\n",
    "        \n",
    "d=Counter(dict).most_common(5)\n",
    "for i in d:\n",
    "    print(i[0],int(i[1]))"
   ]
  },
  {
   "cell_type": "code",
   "execution_count": 14,
   "metadata": {},
   "outputs": [],
   "source": []
  },
  {
   "cell_type": "code",
   "execution_count": null,
   "metadata": {},
   "outputs": [],
   "source": []
  }
 ],
 "metadata": {
  "kernelspec": {
   "display_name": "Python 3",
   "language": "python",
   "name": "python3"
  },
  "language_info": {
   "codemirror_mode": {
    "name": "ipython",
    "version": 3
   },
   "file_extension": ".py",
   "mimetype": "text/x-python",
   "name": "python",
   "nbconvert_exporter": "python",
   "pygments_lexer": "ipython3",
   "version": "3.7.6"
  }
 },
 "nbformat": 4,
 "nbformat_minor": 4
}
